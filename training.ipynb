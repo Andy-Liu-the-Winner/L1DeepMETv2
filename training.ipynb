{
 "cells": [
  {
   "cell_type": "code",
   "execution_count": 1,
   "id": "7ed81a29",
   "metadata": {},
   "outputs": [],
   "source": [
    "import json\n",
    "import os.path as osp\n",
    "import os\n",
    "import numpy as np\n",
    "import math\n",
    "import torch\n",
    "import torch.nn as nn\n",
    "import torch.nn.functional as F\n",
    "from torch_geometric.utils import to_undirected\n",
    "from torch_cluster import radius_graph, knn_graph\n",
    "from torch_geometric.datasets import MNISTSuperpixels\n",
    "import torch_geometric.transforms as T\n",
    "from torch_geometric.data import DataLoader\n",
    "from tqdm import tqdm\n",
    "import argparse\n",
    "import utils\n",
    "import model.net as net\n",
    "import model.data_loader as data_loader\n",
    "from evaluate import evaluate\n",
    "import warnings\n",
    "warnings.simplefilter('ignore')\n",
    "from time import strftime, gmtime"
   ]
  },
  {
   "cell_type": "markdown",
   "id": "517341d9",
   "metadata": {},
   "source": [
    "### Change from DeepMETv2\n",
    "\n",
    "1. Change x_cont, x_cat, etaphi in train() in accordance with the change of training inputs \n",
    "2. Add n_features_cont, n_features_cat to keep track of these numbers here and there, i.e. when building a model these numbers go into arguments\n",
    "3. Remove the resolution-MET plotting part in evaluate, as L1 doesn't have bunch of METs that DeepMETv2 has access to\n",
    "4. Add input scaling to [0,1] (norm)\n",
    "5. Add weight_decay to the optimizer, remove patience from the scheduler "
   ]
  },
  {
   "cell_type": "code",
   "execution_count": 3,
   "id": "cf7c93ab",
   "metadata": {},
   "outputs": [],
   "source": [
    "doRestore = False\n",
    "restore_file = 'best'      # Optional, name of the file in --model_dir containing weights to reload before training\n",
    "\n",
    "pre_fix = '/export/home/phys/kyungmip/L1DeepMETv2/'\n",
    "\n",
    "data_dir = pre_fix + 'data_ttbar/'        # name of the data folder\n",
    "ckpts = pre_fix + 'ckpts_sep21/'       # name of the ckpts folder"
   ]
  },
  {
   "cell_type": "code",
   "execution_count": 4,
   "id": "3ccba2d8",
   "metadata": {},
   "outputs": [],
   "source": [
    "epochs = 20\n",
    "batch_size = 32\n",
    "lr = 1e-4\n",
    "weight_decay = 0.001"
   ]
  },
  {
   "cell_type": "code",
   "execution_count": 5,
   "id": "19a90e15",
   "metadata": {},
   "outputs": [],
   "source": [
    "n_features_cont = 6\n",
    "n_features_cat = 2"
   ]
  },
  {
   "cell_type": "code",
   "execution_count": 6,
   "id": "91ab90e5",
   "metadata": {},
   "outputs": [],
   "source": [
    "def train(model, device, optimizer, scheduler, loss_fn, dataloader, epoch):\n",
    "    model.train()\n",
    "    loss_avg_arr = []\n",
    "    true_px_arr, true_py_arr, METx_arr, METy_arr = [], [], [], []\n",
    "    loss_avg = utils.RunningAverage()\n",
    "\n",
    "    #with tqdm(total=len(dataloader)) as t:\n",
    "    #    for data in dataloader:\n",
    "    #        print(data.x[0])\n",
    "    #        break\n",
    "\n",
    "    with tqdm(total=len(dataloader)) as t:\n",
    "        for data in dataloader:\n",
    "            optimizer.zero_grad()\n",
    "            data = data.to(device)\n",
    "\n",
    "            x_cont = data.x[:,:n_features_cont]       # include puppi\n",
    "            #x_cont = data.x[:,:(n_features_cont-1)]  # remove puppi\n",
    "            x_cat = data.x[:,n_features_cont:].long()\n",
    "\n",
    "            #phi = torch.atan2(data.x[:,2], data.x[:,1])   # atan2(py, px)\n",
    "            etaphi = torch.cat([data.x[:,3][:,None], data.x[:,4][:,None]], dim=1)\n",
    "\n",
    "            # NB: there is a problem right now for comparing hits at the +/- pi boundary\n",
    "            edge_index = radius_graph(etaphi, r=deltaR, batch=data.batch, loop=True, max_num_neighbors=255)\n",
    "            result = model(x_cont, x_cat, edge_index, data.batch)\n",
    "            loss, true_px, true_py, METx, METy = loss_fn(result, data.x, data.y, data.batch)\n",
    "            loss.backward()\n",
    "            optimizer.step()\n",
    "            # update the average loss\n",
    "            loss_avg_arr.append(loss.item())\n",
    "            true_px_arr.append(true_px.cpu().numpy())\n",
    "            true_py_arr.append(true_py.cpu().numpy())\n",
    "            METx_arr.append(METx.detach().cpu().numpy())\n",
    "            METy_arr.append(METy.detach().cpu().numpy())\n",
    "            \n",
    "            loss_avg.update(loss.item())\n",
    "            t.set_postfix(loss='{:05.3f}'.format(loss_avg()))\n",
    "            t.update()\n",
    "    \n",
    "    scheduler.step(np.mean(loss_avg_arr))\n",
    "    print('Training epoch: {:02d}, MSE: {:.4f}'.format(epoch, np.mean(loss_avg_arr)))\n",
    "\n",
    "    model_dir = osp.join(ckpts)\n",
    "    os.system('mkdir -p {}/MODELS'.format(model_dir))\n",
    "\n",
    "    #torch.save(model, '{}/MODELS/model_epoch{}.pt'.format(model_dir, epoch))\n",
    "\n",
    "    return np.mean(loss_avg_arr), true_px_arr, true_py_arr, METx_arr, METy_arr"
   ]
  },
  {
   "cell_type": "code",
   "execution_count": 7,
   "id": "4f26a99a",
   "metadata": {},
   "outputs": [
    {
     "data": {
      "text/plain": [
       "'/export/home/phys/kyungmip'"
      ]
     },
     "execution_count": 7,
     "metadata": {},
     "output_type": "execute_result"
    }
   ],
   "source": [
    "os.environ['PWD']"
   ]
  },
  {
   "cell_type": "code",
   "execution_count": 8,
   "id": "a6fb05a5",
   "metadata": {},
   "outputs": [
    {
     "name": "stdout",
     "output_type": "stream",
     "text": [
      "Split: 167410\n",
      "length of train/val data:  669644 167410\n",
      "Training dataloader: 20927, Test dataloader: 5232\n"
     ]
    }
   ],
   "source": [
    "dataloaders = data_loader.fetch_dataloader(data_dir = data_dir, batch_size=int(batch_size), validation_split=.2)\n",
    "\n",
    "train_dl = dataloaders['train']\n",
    "test_dl = dataloaders['test']\n",
    "\n",
    "print('Training dataloader: {}, Test dataloader: {}'.format(len(train_dl), len(test_dl)))"
   ]
  },
  {
   "cell_type": "code",
   "execution_count": 9,
   "id": "eb600371",
   "metadata": {},
   "outputs": [],
   "source": [
    "os.environ[\"CUDA_VISIBLE_DEVICES\"] = str(2)\n",
    "device = torch.device('cuda:0' if torch.cuda.is_available() else 'cpu')"
   ]
  },
  {
   "cell_type": "code",
   "execution_count": 10,
   "id": "abd4ac1e",
   "metadata": {},
   "outputs": [],
   "source": [
    "# Input norm\n",
    "norm = torch.tensor([1., 1., 1., 1., 1., 1.]).to(device)   # pt, px, py: match it to genMETx genMETx scale factor\n",
    "#norm = torch.tensor([1./1000., 1./1000., 1./1000., 1., 1., 1.]).to(device)   # pt, px, py: match it to genMETx genMETx scale factor\n",
    "#norm = torch.tensor([1./499.25, 1./491.312, 1./495.928, 1./5.035, 1./3.142, 1.]).to(device)   # Have inputs within [0,1]\n",
    "\n",
    "# Model\n",
    "model = net.Net(n_features_cont, n_features_cat, norm).to(device) #include puppi\n",
    "#model = net.Net(n_features_cont-1, n_features_cat, norm).to(device) #remove puppi\n",
    "\n",
    "# Optimizer and scheduler\n",
    "optimizer = torch.optim.AdamW(model.parameters(),lr=float(lr), weight_decay=float(weight_decay))\n",
    "scheduler = torch.optim.lr_scheduler.CyclicLR(optimizer, base_lr = 1e-5, max_lr = 1e-4, cycle_momentum=False)\n",
    "#scheduler = torch.optim.lr_scheduler.OneCycleLR(optimizer, max_lr = 0.1)\n",
    "#scheduler = torch.optim.lr_scheduler.ReduceLROnPlateau(optimizer, factor=0.5, threshold=0.05)\n",
    "#scheduler = torch.optim.lr_scheduler.ReduceLROnPlateau(optimizer, factor=0.5, patience=500, threshold=0.05)"
   ]
  },
  {
   "cell_type": "code",
   "execution_count": 11,
   "id": "af00e107",
   "metadata": {},
   "outputs": [],
   "source": [
    "first_epoch = 0\n",
    "best_validation_loss = 10e7\n",
    "    \n",
    "deltaR = 0.4\n",
    "deltaR_dz = 0.3\n",
    "\n",
    "loss_fn = net.loss_fn_compare\n",
    "metrics = net.metrics\n",
    "\n",
    "model_dir = ckpts\n",
    "\n",
    "os.system('mkdir -p {}'.format(model_dir))\n",
    "loss_log = open(model_dir+'/loss.log', 'w')\n",
    "loss_log.write('# loss log for training starting in '+strftime(\"%Y-%m-%d %H:%M:%S\", gmtime()) + '\\n')\n",
    "loss_log.write('epoch, loss, val_loss\\n')\n",
    "loss_log.flush()"
   ]
  },
  {
   "cell_type": "code",
   "execution_count": 12,
   "id": "deaf799d",
   "metadata": {},
   "outputs": [],
   "source": [
    "# reload weights from restore_file if specified\n",
    "if doRestore:\n",
    "    if restore_file is not None:\n",
    "        restore_ckpt = osp.join(model_dir, restore_file + '.pth.tar')\n",
    "        ckpt = utils.load_checkpoint(restore_ckpt, model, optimizer, scheduler)\n",
    "        first_epoch = ckpt['epoch']\n",
    "        print('Restarting training from epoch',first_epoch)\n",
    "        with open(osp.join(model_dir, 'metrics_val_best.json')) as restore_metrics:\n",
    "            best_validation_loss = json.load(restore_metrics)['loss']"
   ]
  },
  {
   "cell_type": "code",
   "execution_count": null,
   "id": "6ddba41b",
   "metadata": {
    "scrolled": true
   },
   "outputs": [
    {
     "name": "stderr",
     "output_type": "stream",
     "text": [
      "\r",
      "  0%|          | 0/20927 [00:00<?, ?it/s]"
     ]
    },
    {
     "name": "stdout",
     "output_type": "stream",
     "text": [
      "Current best loss: 100000000.0\n",
      "Learning rate: 1.0000220373555605e-05\n"
     ]
    },
    {
     "name": "stderr",
     "output_type": "stream",
     "text": [
      "100%|██████████| 20927/20927 [04:19<00:00, 80.72it/s, loss=0.004]\n"
     ]
    },
    {
     "name": "stdout",
     "output_type": "stream",
     "text": [
      "Training epoch: 01, MSE: 0.0040\n",
      "Checkpoint Directory exists! \n"
     ]
    }
   ],
   "source": [
    "#for epoch in range(first_epoch+1,101):\n",
    "for epoch in range(first_epoch+1, epochs):\n",
    "    print('Current best loss:', best_validation_loss)\n",
    "    if '_last_lr' in scheduler.state_dict():\n",
    "        print('Learning rate:', scheduler.state_dict()['_last_lr'][0])\n",
    "\n",
    "    # compute number of batches in one epoch (one full pass over the training set)\n",
    "    train_loss, true_px_arr, true_py_arr, METx_arr, METy_arr = train(model, device, optimizer, scheduler, loss_fn, train_dl, epoch)\n",
    "\n",
    "    #print(true_px_arr, true_py_arr, METx_arr, METy_arr)\n",
    "    \n",
    "    # Save weights\n",
    "    utils.save_checkpoint({'epoch': epoch,\n",
    "                            'state_dict': model.state_dict(),\n",
    "                            'optim_dict': optimizer.state_dict(),\n",
    "                            'sched_dict': scheduler.state_dict()},\n",
    "                            is_best=False,\n",
    "                            checkpoint=model_dir)\n",
    "\n",
    "    m = torch.jit.script(model)\n",
    "    torch.jit.save(m, f'{model_dir}/MODELS/scripted_model_epoch{epoch}.pt')\n",
    "    #m.save(\"scriptmodule.pt\")\n",
    "    \n",
    "    torch.save(model, f'{model_dir}/MODELS/model_epoch{epoch}.pt')\n",
    "    \n",
    "    # Evaluate for one epoch on validation set\n",
    "    #test_metrics = evaluate(model, device, loss_fn, test_dl, metrics, deltaR,deltaR_dz, model_dir)\n",
    "    test_metrics, resolutions = evaluate(model, device, loss_fn, test_dl, metrics, deltaR,deltaR_dz, model_dir, epoch)\n",
    "\n",
    "    validation_loss = test_metrics['loss']\n",
    "    loss_log.write('%d,%.8f,%.8f\\n'%(epoch, train_loss, validation_loss))\n",
    "    loss_log.flush()\n",
    "    is_best = (validation_loss<=best_validation_loss)\n",
    "\n",
    "    # If best_eval, best_save_path\n",
    "    if is_best: \n",
    "        print('Found new best loss!') \n",
    "        best_validation_loss=validation_loss\n",
    "\n",
    "        # Save weights\n",
    "        utils.save_checkpoint({'epoch': epoch,\n",
    "                                'state_dict': model.state_dict(),\n",
    "                                'optim_dict': optimizer.state_dict(),\n",
    "                                'sched_dict': scheduler.state_dict()},\n",
    "                                is_best=True,\n",
    "                                checkpoint=model_dir)\n",
    "            \n",
    "        # Save best val metrics in a json file in the model directory\n",
    "        utils.save_dict_to_json(test_metrics, osp.join(model_dir, 'metrics_val_best.json'))\n",
    "        utils.save(resolutions, osp.join(model_dir, 'best.resolutions'))\n",
    "\n",
    "    utils.save_dict_to_json(test_metrics, osp.join(model_dir, 'metrics_val_last.json'))\n",
    "    utils.save(resolutions, osp.join(model_dir, 'last.resolutions'))\n",
    "\n",
    "    #break\n",
    "\n",
    "loss_log.close()"
   ]
  },
  {
   "cell_type": "code",
   "execution_count": null,
   "id": "1b231d12",
   "metadata": {},
   "outputs": [],
   "source": []
  },
  {
   "cell_type": "code",
   "execution_count": 18,
   "id": "65090520",
   "metadata": {
    "scrolled": true
   },
   "outputs": [],
   "source": [
    "loaded_model = torch.jit.load(f'{model_dir}/scripted_model.pt')"
   ]
  },
  {
   "cell_type": "code",
   "execution_count": 19,
   "id": "762b402b",
   "metadata": {
    "scrolled": true
   },
   "outputs": [
    {
     "data": {
      "text/plain": [
       "RecursiveScriptModule(\n",
       "  original_name=Net\n",
       "  (graphnet): RecursiveScriptModule(\n",
       "    original_name=GraphMETNetwork\n",
       "    (embed_charge): RecursiveScriptModule(original_name=Embedding)\n",
       "    (embed_pdgid): RecursiveScriptModule(original_name=Embedding)\n",
       "    (embed_continuous): RecursiveScriptModule(\n",
       "      original_name=Sequential\n",
       "      (0): RecursiveScriptModule(original_name=Linear)\n",
       "      (1): RecursiveScriptModule(original_name=ELU)\n",
       "    )\n",
       "    (embed_categorical): RecursiveScriptModule(\n",
       "      original_name=Sequential\n",
       "      (0): RecursiveScriptModule(original_name=Linear)\n",
       "      (1): RecursiveScriptModule(original_name=ELU)\n",
       "    )\n",
       "    (encode_all): RecursiveScriptModule(\n",
       "      original_name=Sequential\n",
       "      (0): RecursiveScriptModule(original_name=Linear)\n",
       "      (1): RecursiveScriptModule(original_name=ELU)\n",
       "    )\n",
       "    (bn_all): RecursiveScriptModule(original_name=BatchNorm1d)\n",
       "    (conv_continuous): RecursiveScriptModule(\n",
       "      original_name=ModuleList\n",
       "      (0): RecursiveScriptModule(\n",
       "        original_name=ModuleList\n",
       "        (0): RecursiveScriptModule(\n",
       "          original_name=EdgeConvJittable_0b5ece\n",
       "          (aggr_module): RecursiveScriptModule(original_name=MaxAggregation)\n",
       "          (nn): RecursiveScriptModule(\n",
       "            original_name=Sequential\n",
       "            (0): RecursiveScriptModule(original_name=Linear)\n",
       "          )\n",
       "        )\n",
       "        (1): RecursiveScriptModule(original_name=BatchNorm1d)\n",
       "      )\n",
       "      (1): RecursiveScriptModule(\n",
       "        original_name=ModuleList\n",
       "        (0): RecursiveScriptModule(\n",
       "          original_name=EdgeConvJittable_0b6812\n",
       "          (aggr_module): RecursiveScriptModule(original_name=MaxAggregation)\n",
       "          (nn): RecursiveScriptModule(\n",
       "            original_name=Sequential\n",
       "            (0): RecursiveScriptModule(original_name=Linear)\n",
       "          )\n",
       "        )\n",
       "        (1): RecursiveScriptModule(original_name=BatchNorm1d)\n",
       "      )\n",
       "    )\n",
       "    (output): RecursiveScriptModule(\n",
       "      original_name=Sequential\n",
       "      (0): RecursiveScriptModule(original_name=Linear)\n",
       "      (1): RecursiveScriptModule(original_name=ELU)\n",
       "      (2): RecursiveScriptModule(original_name=Linear)\n",
       "    )\n",
       "  )\n",
       ")"
      ]
     },
     "execution_count": 19,
     "metadata": {},
     "output_type": "execute_result"
    }
   ],
   "source": [
    "loaded_model.eval()"
   ]
  },
  {
   "cell_type": "code",
   "execution_count": null,
   "id": "254b7ea9",
   "metadata": {},
   "outputs": [],
   "source": []
  },
  {
   "cell_type": "code",
   "execution_count": null,
   "id": "cab15c5c",
   "metadata": {},
   "outputs": [],
   "source": []
  },
  {
   "cell_type": "code",
   "execution_count": null,
   "id": "868ffcd9",
   "metadata": {},
   "outputs": [],
   "source": []
  },
  {
   "cell_type": "code",
   "execution_count": null,
   "id": "be144db3",
   "metadata": {},
   "outputs": [],
   "source": []
  },
  {
   "cell_type": "code",
   "execution_count": 17,
   "id": "f244c1eb",
   "metadata": {},
   "outputs": [],
   "source": [
    "true_px_list = np.concatenate(true_px_arr).ravel()\n",
    "true_py_list = np.concatenate(true_py_arr).ravel()\n",
    "METx_list = np.concatenate(METx_arr).ravel()\n",
    "METy_list = np.concatenate(METy_arr).ravel()"
   ]
  },
  {
   "cell_type": "code",
   "execution_count": 21,
   "id": "d0c8693e",
   "metadata": {},
   "outputs": [],
   "source": [
    "np.savetxt('true_px.txt', true_px_list, delimiter=',')\n",
    "np.savetxt('true_py.txt', true_py_list, delimiter=',')\n",
    "np.savetxt('METx.txt', METx_list, delimiter=',')\n",
    "np.savetxt('METy.txt', METy_list, delimiter=',')"
   ]
  },
  {
   "cell_type": "code",
   "execution_count": null,
   "id": "ca430835",
   "metadata": {},
   "outputs": [],
   "source": []
  },
  {
   "cell_type": "code",
   "execution_count": null,
   "id": "78fddf2e",
   "metadata": {},
   "outputs": [],
   "source": []
  },
  {
   "cell_type": "code",
   "execution_count": 18,
   "id": "ce81f7b0",
   "metadata": {},
   "outputs": [],
   "source": [
    "import matplotlib.pyplot as plt"
   ]
  },
  {
   "cell_type": "code",
   "execution_count": 19,
   "id": "419544e3",
   "metadata": {},
   "outputs": [],
   "source": [
    "abs_true_px = list(map(abs, true_px_list))"
   ]
  },
  {
   "cell_type": "code",
   "execution_count": 20,
   "id": "da59eb33",
   "metadata": {},
   "outputs": [
    {
     "data": {
      "text/plain": [
       "<matplotlib.collections.PathCollection at 0x7f675bbb8220>"
      ]
     },
     "execution_count": 20,
     "metadata": {},
     "output_type": "execute_result"
    },
    {
     "data": {
      "image/png": "[encoded data removed]",
      "text/plain": [
       "<Figure size 432x288 with 1 Axes>"
      ]
     },
     "metadata": {
      "needs_background": "light"
     },
     "output_type": "display_data"
    }
   ],
   "source": [
    "plt.scatter(abs_true_px, METx_list)"
   ]
  },
  {
   "cell_type": "code",
   "execution_count": 78,
   "id": "e6d1708e",
   "metadata": {},
   "outputs": [],
   "source": [
    "for x in METx_list:\n",
    "    if x < 0:\n",
    "        print(x)"
   ]
  },
  {
   "cell_type": "code",
   "execution_count": null,
   "id": "9973e0de",
   "metadata": {},
   "outputs": [],
   "source": []
  },
  {
   "cell_type": "code",
   "execution_count": null,
   "id": "8748949f",
   "metadata": {},
   "outputs": [],
   "source": []
  },
  {
   "cell_type": "code",
   "execution_count": null,
   "id": "aa21341d",
   "metadata": {},
   "outputs": [],
   "source": []
  }
 ],
 "metadata": {
  "kernelspec": {
   "display_name": "Python 3",
   "language": "python",
   "name": "python3"
  },
  "language_info": {
   "codemirror_mode": {
    "name": "ipython",
    "version": 3
   },
   "file_extension": ".py",
   "mimetype": "text/x-python",
   "name": "python",
   "nbconvert_exporter": "python",
   "pygments_lexer": "ipython3",
   "version": "3.8.8"
  }
 },
 "nbformat": 4,
 "nbformat_minor": 5
}
