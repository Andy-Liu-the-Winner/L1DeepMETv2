{
 "cells": [
  {
   "cell_type": "code",
   "execution_count": 1,
   "id": "57757b67",
   "metadata": {},
   "outputs": [],
   "source": [
    "import torch\n",
    "from torch_geometric.utils import to_undirected"
   ]
  },
  {
   "cell_type": "code",
   "execution_count": 2,
   "id": "c2e242be",
   "metadata": {},
   "outputs": [
    {
     "data": {
      "text/plain": [
       "'1.10.2+cu102'"
      ]
     },
     "execution_count": 2,
     "metadata": {},
     "output_type": "execute_result"
    }
   ],
   "source": [
    "torch.__version__"
   ]
  },
  {
   "cell_type": "code",
   "execution_count": 3,
   "id": "81d7ad8d",
   "metadata": {},
   "outputs": [
    {
     "name": "stdout",
     "output_type": "stream",
     "text": [
      "Python 3.8.8\r\n"
     ]
    }
   ],
   "source": [
    "!python --version"
   ]
  },
  {
   "cell_type": "code",
   "execution_count": 4,
   "id": "5ebb3556",
   "metadata": {},
   "outputs": [],
   "source": [
    "model_dir = './'       # name of the ckpts folder'"
   ]
  },
  {
   "cell_type": "code",
   "execution_count": 5,
   "id": "300d24a8",
   "metadata": {},
   "outputs": [],
   "source": [
    "loaded_model = torch.jit.load(f'{model_dir}/scripted_model.pt')"
   ]
  },
  {
   "cell_type": "code",
   "execution_count": 6,
   "id": "40543e17",
   "metadata": {},
   "outputs": [
    {
     "data": {
      "text/plain": [
       "RecursiveScriptModule(\n",
       "  original_name=Net\n",
       "  (graphnet): RecursiveScriptModule(\n",
       "    original_name=GraphMETNetwork\n",
       "    (embed_charge): RecursiveScriptModule(original_name=Embedding)\n",
       "    (embed_pdgid): RecursiveScriptModule(original_name=Embedding)\n",
       "    (embed_continuous): RecursiveScriptModule(\n",
       "      original_name=Sequential\n",
       "      (0): RecursiveScriptModule(original_name=Linear)\n",
       "      (1): RecursiveScriptModule(original_name=ELU)\n",
       "    )\n",
       "    (embed_categorical): RecursiveScriptModule(\n",
       "      original_name=Sequential\n",
       "      (0): RecursiveScriptModule(original_name=Linear)\n",
       "      (1): RecursiveScriptModule(original_name=ELU)\n",
       "    )\n",
       "    (encode_all): RecursiveScriptModule(\n",
       "      original_name=Sequential\n",
       "      (0): RecursiveScriptModule(original_name=Linear)\n",
       "      (1): RecursiveScriptModule(original_name=ELU)\n",
       "    )\n",
       "    (bn_all): RecursiveScriptModule(original_name=BatchNorm1d)\n",
       "    (conv_continuous): RecursiveScriptModule(\n",
       "      original_name=ModuleList\n",
       "      (0): RecursiveScriptModule(\n",
       "        original_name=ModuleList\n",
       "        (0): RecursiveScriptModule(\n",
       "          original_name=EdgeConvJittable_0b5ece\n",
       "          (aggr_module): RecursiveScriptModule(original_name=MaxAggregation)\n",
       "          (nn): RecursiveScriptModule(\n",
       "            original_name=Sequential\n",
       "            (0): RecursiveScriptModule(original_name=Linear)\n",
       "          )\n",
       "        )\n",
       "        (1): RecursiveScriptModule(original_name=BatchNorm1d)\n",
       "      )\n",
       "      (1): RecursiveScriptModule(\n",
       "        original_name=ModuleList\n",
       "        (0): RecursiveScriptModule(\n",
       "          original_name=EdgeConvJittable_0b6812\n",
       "          (aggr_module): RecursiveScriptModule(original_name=MaxAggregation)\n",
       "          (nn): RecursiveScriptModule(\n",
       "            original_name=Sequential\n",
       "            (0): RecursiveScriptModule(original_name=Linear)\n",
       "          )\n",
       "        )\n",
       "        (1): RecursiveScriptModule(original_name=BatchNorm1d)\n",
       "      )\n",
       "    )\n",
       "    (output): RecursiveScriptModule(\n",
       "      original_name=Sequential\n",
       "      (0): RecursiveScriptModule(original_name=Linear)\n",
       "      (1): RecursiveScriptModule(original_name=ELU)\n",
       "      (2): RecursiveScriptModule(original_name=Linear)\n",
       "    )\n",
       "  )\n",
       ")"
      ]
     },
     "execution_count": 6,
     "metadata": {},
     "output_type": "execute_result"
    }
   ],
   "source": [
    "loaded_model.eval()"
   ]
  },
  {
   "cell_type": "code",
   "execution_count": null,
   "id": "7d290388",
   "metadata": {},
   "outputs": [],
   "source": []
  }
 ],
 "metadata": {
  "kernelspec": {
   "display_name": "Python 3",
   "language": "python",
   "name": "python3"
  },
  "language_info": {
   "codemirror_mode": {
    "name": "ipython",
    "version": 3
   },
   "file_extension": ".py",
   "mimetype": "text/x-python",
   "name": "python",
   "nbconvert_exporter": "python",
   "pygments_lexer": "ipython3",
   "version": "3.8.8"
  }
 },
 "nbformat": 4,
 "nbformat_minor": 5
}
