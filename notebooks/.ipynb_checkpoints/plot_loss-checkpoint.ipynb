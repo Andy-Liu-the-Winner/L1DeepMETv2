{
 "cells": [
  {
   "cell_type": "code",
   "execution_count": 1,
   "id": "26aef35f",
   "metadata": {},
   "outputs": [],
   "source": [
    "%load_ext autoreload\n",
    "%autoreload 2\n",
    "import numpy as np\n",
    "import pandas as pd\n",
    "import matplotlib.pyplot as plt\n",
    "import os"
   ]
  },
  {
   "cell_type": "code",
   "execution_count": 2,
   "id": "28805270",
   "metadata": {},
   "outputs": [
    {
     "data": {
      "text/plain": [
       "0"
      ]
     },
     "execution_count": 2,
     "metadata": {},
     "output_type": "execute_result"
    }
   ],
   "source": [
    "os.system('mkdir -p ./loss/')"
   ]
  },
  {
   "cell_type": "code",
   "execution_count": 3,
   "id": "71f6a380",
   "metadata": {},
   "outputs": [],
   "source": [
    "prefix = '/export/home/phys/kyungmip/L1DeepMETv2_workspace/'\n",
    "ckpts = f'{prefix}/ckpts_Feb16_edgeConv_4layers_batch32_noSelfLoops_noResponseCorr_correctUt/'"
   ]
  },
  {
   "cell_type": "code",
   "execution_count": 4,
   "id": "9e16a519",
   "metadata": {},
   "outputs": [],
   "source": [
    "lossDir = ckpts"
   ]
  },
  {
   "cell_type": "code",
   "execution_count": 5,
   "id": "0590abe8",
   "metadata": {},
   "outputs": [],
   "source": [
    "df = pd.read_csv('{}loss.log'.format(lossDir), skiprows=2, header=None, \n",
    "                 names=['epoch', 'loss', 'val_loss'])"
   ]
  },
  {
   "cell_type": "code",
   "execution_count": 6,
   "id": "943bffdf",
   "metadata": {},
   "outputs": [],
   "source": [
    "train_loss = list(df['loss'])\n",
    "val_loss = list(df['val_loss'])\n",
    "epochs = list(df['epoch'])"
   ]
  },
  {
   "cell_type": "code",
   "execution_count": 7,
   "id": "a8f4328e",
   "metadata": {},
   "outputs": [
    {
     "data": {
      "image/png": "[encoded data removed]",
      "text/plain": [
       "<Figure size 432x288 with 1 Axes>"
      ]
     },
     "metadata": {
      "needs_background": "light"
     },
     "output_type": "display_data"
    }
   ],
   "source": [
    "plt.plot(epochs, train_loss, 'o-', label='Training loss')\n",
    "plt.plot(epochs, val_loss, 'o-', label='Validation loss')\n",
    "\n",
    "plt.xlabel('Epoch')\n",
    "plt.ylabel('Loss')\n",
    "\n",
    "#plt.yscale('log')\n",
    "\n",
    "plt.legend()\n",
    "\n",
    "plt.show()"
   ]
  },
  {
   "cell_type": "code",
   "execution_count": null,
   "id": "e83a412f",
   "metadata": {},
   "outputs": [],
   "source": []
  },
  {
   "cell_type": "code",
   "execution_count": null,
   "id": "a0e23146",
   "metadata": {},
   "outputs": [],
   "source": []
  }
 ],
 "metadata": {
  "kernelspec": {
   "display_name": "Python 3",
   "language": "python",
   "name": "python3"
  },
  "language_info": {
   "codemirror_mode": {
    "name": "ipython",
    "version": 3
   },
   "file_extension": ".py",
   "mimetype": "text/x-python",
   "name": "python",
   "nbconvert_exporter": "python",
   "pygments_lexer": "ipython3",
   "version": "3.8.8"
  }
 },
 "nbformat": 4,
 "nbformat_minor": 5
}
