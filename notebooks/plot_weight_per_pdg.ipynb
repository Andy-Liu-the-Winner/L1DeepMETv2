{
 "cells": [
  {
   "cell_type": "code",
   "execution_count": 44,
   "id": "59371a19",
   "metadata": {},
   "outputs": [
    {
     "name": "stdout",
     "output_type": "stream",
     "text": [
      "The autoreload extension is already loaded. To reload it, use:\n",
      "  %reload_ext autoreload\n"
     ]
    }
   ],
   "source": [
    "%load_ext autoreload\n",
    "%autoreload 2\n",
    "import numpy as np\n",
    "import matplotlib.pyplot as plt\n",
    "import glob\n",
    "import os, sys\n",
    "import mpl_scatter_density\n",
    "import mplhep as hep\n",
    "import matplotlib\n",
    "import mpl_scatter_density\n",
    "\n",
    "sys.path.append('../')\n",
    "from utils import load\n",
    "import model.data_loader as data_loader\n",
    "from tqdm import tqdm\n",
    "import torch"
   ]
  },
  {
   "cell_type": "code",
   "execution_count": 2,
   "id": "a923b5fb",
   "metadata": {},
   "outputs": [],
   "source": [
    "epoch = 99"
   ]
  },
  {
   "cell_type": "code",
   "execution_count": 3,
   "id": "6e773f5d",
   "metadata": {},
   "outputs": [],
   "source": [
    "prefix = '/export/home/phys/kyungmip/L1DeepMETv2/'\n",
    "\n",
    "ckpts = f'{prefix}/ckpts_Feb25_norm_momentum_binned_response_lr_0p1/'"
   ]
  },
  {
   "cell_type": "code",
   "execution_count": 6,
   "id": "ee168878",
   "metadata": {},
   "outputs": [],
   "source": [
    "pdg = {'muon': [], \\\n",
    "       'electron': [], \\\n",
    "       'photon': [], \\\n",
    "       'kaon': [], \\\n",
    "       'pion': [], \\\n",
    "       #'up': [], \\\n",
    "       #'down': []\n",
    "      }\n",
    "\n",
    "for id in pdg.keys():\n",
    "    file = glob.glob(f'{ckpts}/epoch{epoch}_{id}_weights.*')[0]\n",
    "    pdg[id] = np.loadtxt(file, delimiter=',')"
   ]
  },
  {
   "cell_type": "code",
   "execution_count": 37,
   "id": "cdda045d",
   "metadata": {},
   "outputs": [
    {
     "name": "stdout",
     "output_type": "stream",
     "text": [
      "Split: 199708\n",
      "length of train/val data:  798834 199708\n",
      "Training dataloader: 24964, Test dataloader: 6241\n"
     ]
    },
    {
     "name": "stderr",
     "output_type": "stream",
     "text": [
      "/export/home/phys/kyungmip/anaconda3/lib/python3.8/site-packages/torch_geometric/deprecation.py:12: UserWarning: 'data.DataLoader' is deprecated, use 'loader.DataLoader' instead\n",
      "  warnings.warn(out)\n"
     ]
    }
   ],
   "source": [
    "pre_fix = '/export/home/phys/kyungmip/L1DeepMETv2/'\n",
    "\n",
    "data_dir = pre_fix + 'data_ttbar/'        # name of the input data folder\n",
    "\n",
    "batch_size = 32\n",
    "\n",
    "dataloaders = data_loader.fetch_dataloader(data_dir = data_dir, batch_size=int(batch_size), validation_split=.2)\n",
    "\n",
    "train_dl = dataloaders['train']\n",
    "test_dl = dataloaders['test']\n",
    "\n",
    "print('Training dataloader: {}, Test dataloader: {}'.format(len(train_dl), len(test_dl)))"
   ]
  },
  {
   "cell_type": "code",
   "execution_count": 49,
   "id": "63a10901",
   "metadata": {},
   "outputs": [],
   "source": [
    "device = torch.device('cuda' if torch.cuda.is_available() else 'cpu')"
   ]
  },
  {
   "cell_type": "code",
   "execution_count": 60,
   "id": "165a2bd0",
   "metadata": {},
   "outputs": [],
   "source": [
    "with tqdm(total=len(test_dl)) as t:\n",
    "    for data in test_dl:\n",
    "        print(data.x[:,5][torch.abs(data.x[:,6]) == 11])\n",
    "        weights = {\n",
    "            'electron': data.x[:,5][torch.abs(data.x[:,6]) == 11].numpy(),\n",
    "            'muon': data.x[:,5][torch.abs(data.x[:,6]) == 13].numpy(),\n",
    "            'photon': data.x[:,5][torch.abs(data.x[:,6]) == 22].numpy(),\n",
    "            'kaon': data.x[:,5][torch.abs(data.x[:,6]) == 130].numpy(),\n",
    "            'pion': data.x[:,5][torch.abs(data.x[:,6]) == 211].numpy(),\n",
    "        }"
   ]
  },
  {
   "cell_type": "code",
   "execution_count": 62,
   "id": "4a0cb8e8",
   "metadata": {},
   "outputs": [],
   "source": [
    "weights['electron']"
   ]
  },
  {
   "cell_type": "code",
   "execution_count": null,
   "id": "78e6a593",
   "metadata": {},
   "outputs": [],
   "source": []
  },
  {
   "cell_type": "code",
   "execution_count": 34,
   "id": "297e36d4",
   "metadata": {},
   "outputs": [
    {
     "data": {
      "image/png": "[encoded data removed]",
      "text/plain": [
       "<Figure size 432x288 with 1 Axes>"
      ]
     },
     "metadata": {
      "needs_background": "light"
     },
     "output_type": "display_data"
    }
   ],
   "source": [
    "particle = 'muon'\n",
    "\n",
    "bins = np.linspace(0, 1, 100)\n",
    "\n",
    "plt.hist(pdg[particle], bins, histtype='step', label='ML Weight')\n",
    "\n",
    "plt.title('Muon mu+/mu-')\n",
    "\n",
    "plt.legend()\n",
    "\n",
    "plt.show()"
   ]
  },
  {
   "cell_type": "code",
   "execution_count": 29,
   "id": "2fd8fdcc",
   "metadata": {},
   "outputs": [
    {
     "data": {
      "image/png": "[encoded data removed]",
      "text/plain": [
       "<Figure size 432x288 with 1 Axes>"
      ]
     },
     "metadata": {
      "needs_background": "light"
     },
     "output_type": "display_data"
    }
   ],
   "source": [
    "particle = 'electron'\n",
    "\n",
    "bins = np.linspace(0, 1, 100)\n",
    "\n",
    "plt.hist(pdg[particle], bins, histtype='step', label='ML Weight')\n",
    "\n",
    "plt.title('Electron e+/e-')\n",
    "\n",
    "plt.legend()\n",
    "\n",
    "plt.show()"
   ]
  },
  {
   "cell_type": "code",
   "execution_count": 30,
   "id": "6d57d194",
   "metadata": {},
   "outputs": [
    {
     "data": {
      "image/png": "[encoded data removed]",
      "text/plain": [
       "<Figure size 432x288 with 1 Axes>"
      ]
     },
     "metadata": {
      "needs_background": "light"
     },
     "output_type": "display_data"
    }
   ],
   "source": [
    "particle = 'kaon'\n",
    "\n",
    "bins = np.linspace(0, 1, 100)\n",
    "\n",
    "plt.hist(pdg[particle], bins, histtype='step', label='ML Weight')\n",
    "\n",
    "plt.title('Kaon K0')\n",
    "\n",
    "plt.legend()\n",
    "\n",
    "plt.show()"
   ]
  },
  {
   "cell_type": "code",
   "execution_count": 32,
   "id": "4bb2f3db",
   "metadata": {},
   "outputs": [
    {
     "data": {
      "image/png": "[encoded data removed]",
      "text/plain": [
       "<Figure size 432x288 with 1 Axes>"
      ]
     },
     "metadata": {
      "needs_background": "light"
     },
     "output_type": "display_data"
    }
   ],
   "source": [
    "particle = 'pion'\n",
    "\n",
    "bins = np.linspace(0, 1, 100)\n",
    "\n",
    "plt.hist(pdg[particle], bins, histtype='step', label='ML Weight')\n",
    "\n",
    "plt.title('Pion pi+/pi-')\n",
    "\n",
    "plt.legend()\n",
    "\n",
    "plt.show()"
   ]
  },
  {
   "cell_type": "code",
   "execution_count": 33,
   "id": "a10af1de",
   "metadata": {},
   "outputs": [
    {
     "data": {
      "image/png": "[encoded data removed]",
      "text/plain": [
       "<Figure size 432x288 with 1 Axes>"
      ]
     },
     "metadata": {
      "needs_background": "light"
     },
     "output_type": "display_data"
    }
   ],
   "source": [
    "particle = 'photon'\n",
    "\n",
    "bins = np.linspace(0, 1, 100)\n",
    "\n",
    "plt.hist(pdg[particle], bins, histtype='step', label='ML Weight')\n",
    "\n",
    "plt.title('Photon')\n",
    "\n",
    "plt.legend()\n",
    "\n",
    "plt.show()"
   ]
  },
  {
   "cell_type": "code",
   "execution_count": null,
   "id": "42124c99",
   "metadata": {},
   "outputs": [],
   "source": []
  },
  {
   "cell_type": "code",
   "execution_count": null,
   "id": "f0807d18",
   "metadata": {},
   "outputs": [],
   "source": []
  }
 ],
 "metadata": {
  "kernelspec": {
   "display_name": "Python 3",
   "language": "python",
   "name": "python3"
  },
  "language_info": {
   "codemirror_mode": {
    "name": "ipython",
    "version": 3
   },
   "file_extension": ".py",
   "mimetype": "text/x-python",
   "name": "python",
   "nbconvert_exporter": "python",
   "pygments_lexer": "ipython3",
   "version": "3.8.8"
  }
 },
 "nbformat": 4,
 "nbformat_minor": 5
}
